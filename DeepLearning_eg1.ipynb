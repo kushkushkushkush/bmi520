{
  "nbformat": 4,
  "nbformat_minor": 0,
  "metadata": {
    "colab": {
      "provenance": []
    },
    "kernelspec": {
      "name": "python3",
      "display_name": "Python 3"
    },
    "language_info": {
      "name": "python"
    },
    "accelerator": "GPU"
  },
  "cells": [
    {
      "cell_type": "markdown",
      "metadata": {
        "id": "nXgVGzXZXyL1"
      },
      "source": [
        "**Eg 1: Predict hourly wage**"
      ]
    },
    {
      "cell_type": "code",
      "metadata": {
        "id": "SaSr-UJD-4qM"
      },
      "source": [
        "## Read data\n",
        "import pandas as pd\n",
        "#read in data using pandas\n",
        "\n",
        "from google.colab import files\n",
        "uploaded = files.upload()\n",
        "\n",
        "train_df = pd.read_csv('hourly_wages.csv')\n",
        "#check data has been read in properly\n",
        "train_df.head()"
      ],
      "execution_count": null,
      "outputs": []
    },
    {
      "cell_type": "code",
      "metadata": {
        "id": "Fh3LdkB6Dbbx"
      },
      "source": [
        "#create a dataframe with all training data except the target column\n",
        "train_X = train_df.drop(columns=['wage_per_hour']) #hourly wage is the target column\n",
        "\n",
        "#check that the target variable has been removed\n",
        "train_X.head()"
      ],
      "execution_count": null,
      "outputs": []
    },
    {
      "cell_type": "code",
      "metadata": {
        "id": "HOFCYh1UDe1q"
      },
      "source": [
        "#create a dataframe with only the target column\n",
        "train_y = train_df[['wage_per_hour']]\n",
        "\n",
        "#view dataframe\n",
        "train_y.head()"
      ],
      "execution_count": null,
      "outputs": []
    },
    {
      "cell_type": "code",
      "metadata": {
        "id": "51JoVjzgDi47"
      },
      "source": [
        "from keras.models import Sequential\n",
        "from keras.layers import Dense\n",
        "#create model\n",
        "model = Sequential()\n",
        "\n",
        "#get number of columns in training data\n",
        "n_cols = train_X.shape[1]\n",
        "\n",
        "#add model layers\n",
        "model.add(Dense(10, activation='relu', input_shape=(n_cols,)))\n",
        "model.add(Dense(10, activation='relu'))\n",
        "model.add(Dense(1))"
      ],
      "execution_count": null,
      "outputs": []
    },
    {
      "cell_type": "code",
      "metadata": {
        "id": "L6bXOHO8Dm1q"
      },
      "source": [
        "#compile model using mse as a measure of model performance\n",
        "model.compile(optimizer='adam', loss='mean_squared_error')\n",
        "model.summary()"
      ],
      "execution_count": null,
      "outputs": []
    },
    {
      "cell_type": "code",
      "metadata": {
        "id": "X4BCgu9PDpU9"
      },
      "source": [
        "from keras.callbacks import EarlyStopping\n",
        "#set early stopping monitor so the model stops training when it won't improve anymore\n",
        "early_stopping_monitor = EarlyStopping(patience=3)\n",
        "#train model\n",
        "model.fit(train_X, train_y, validation_split=0.3, epochs=50, callbacks=[early_stopping_monitor])"
      ],
      "execution_count": null,
      "outputs": []
    },
    {
      "cell_type": "code",
      "metadata": {
        "id": "XOcQYjtDDyZU"
      },
      "source": [
        "#example on how to use our newly trained model on how to make predictions on unseen data \n",
        "test_X=train_X\n",
        "test_y_predictions = model.predict(test_X)\n",
        "test_y_predictions"
      ],
      "execution_count": null,
      "outputs": []
    },
    {
      "cell_type": "code",
      "metadata": {
        "id": "67UxIl2iD266"
      },
      "source": [
        "#How does inceasing model capacity and iterations affect the training?\n",
        "\n",
        "#create model\n",
        "model_mc = Sequential()\n",
        "\n",
        "#add model layers\n",
        "model_mc.add(Dense(200, activation='relu', input_shape=(n_cols,)))\n",
        "model_mc.add(Dense(200, activation='relu'))\n",
        "model_mc.add(Dense(200, activation='relu'))\n",
        "model_mc.add(Dense(200, activation='relu'))\n",
        "model_mc.add(Dense(200, activation='relu'))\n",
        "model_mc.add(Dense(200, activation='relu'))\n",
        "model_mc.add(Dense(1))\n",
        "\n",
        "#compile model using mse as a measure of model performance\n",
        "model_mc.compile(optimizer='adam', loss='mean_squared_error')\n",
        "#train model\n",
        "model_mc.fit(train_X, train_y, validation_split=0.2, epochs=30)"
      ],
      "execution_count": null,
      "outputs": []
    }
  ]
}